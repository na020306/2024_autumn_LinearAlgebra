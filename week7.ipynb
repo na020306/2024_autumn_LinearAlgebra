{
  "cells": [
    {
      "cell_type": "code",
      "execution_count": 1,
      "metadata": {
        "id": "u1-WhSohSAgR"
      },
      "outputs": [],
      "source": [
        "import numpy as np"
      ]
    },
    {
      "cell_type": "code",
      "execution_count": 17,
      "metadata": {
        "id": "vYWQi8-_SLuu"
      },
      "outputs": [],
      "source": [
        "A = np.array([[1,0],\n",
        "             [0,1],\n",
        "             [0,0]])"
      ]
    },
    {
      "cell_type": "code",
      "execution_count": 18,
      "metadata": {
        "id": "hypJY8ULSgG4"
      },
      "outputs": [],
      "source": [
        "b = np.array([5,5,0])"
      ]
    },
    {
      "cell_type": "code",
      "execution_count": 20,
      "metadata": {
        "id": "_YZjgltpSkY4"
      },
      "outputs": [],
      "source": [
        "Ainv = np.linalg.pinv(A)\n",
        "# pseudo code"
      ]
    },
    {
      "cell_type": "code",
      "execution_count": 21,
      "metadata": {
        "id": "2ormwXLiSq8V"
      },
      "outputs": [],
      "source": [
        "x = Ainv@b"
      ]
    },
    {
      "cell_type": "code",
      "execution_count": 22,
      "metadata": {
        "colab": {
          "base_uri": "https://localhost:8080/"
        },
        "id": "cHC2XK6BSuf_",
        "outputId": "5cd79e17-5528-484a-f747-d1232e3a89a8"
      },
      "outputs": [
        {
          "data": {
            "text/plain": [
              "array([0., 0., 0.])"
            ]
          },
          "execution_count": 22,
          "metadata": {},
          "output_type": "execute_result"
        }
      ],
      "source": [
        "A@x - b"
      ]
    },
    {
      "cell_type": "code",
      "execution_count": 23,
      "metadata": {
        "colab": {
          "base_uri": "https://localhost:8080/"
        },
        "id": "y6b5sqtCS0rT",
        "outputId": "d4557605-5430-4645-e5a6-3b9b41266e17"
      },
      "outputs": [
        {
          "name": "stdout",
          "output_type": "stream",
          "text": [
            "[5. 5.]\n"
          ]
        }
      ],
      "source": [
        "print(x)"
      ]
    },
    {
      "cell_type": "markdown",
      "metadata": {},
      "source": [
        "벡터 w를 벡터 u, v의 선형결합으로 표현하기!!!!!!"
      ]
    },
    {
      "cell_type": "code",
      "execution_count": 40,
      "metadata": {},
      "outputs": [],
      "source": [
        "u = np.array([1,-2,-5])\n",
        "v = np.array([2,5,6])\n",
        "w = np.array([7,4,-3])"
      ]
    },
    {
      "cell_type": "code",
      "execution_count": 51,
      "metadata": {},
      "outputs": [
        {
          "name": "stdout",
          "output_type": "stream",
          "text": [
            "A = \n",
            "[ 1 -2 -5  2  5  6]\n",
            "A =\n",
            "[[ 1  2]\n",
            " [-2  5]\n",
            " [-5  6]]\n",
            "b = \n",
            "[ 7  4 -3]\n"
          ]
        }
      ],
      "source": [
        "A = np.append(u,v)\n",
        "\n",
        "print(\"A = \")\n",
        "print(A)\n",
        "\n",
        "A = A.reshape((2,3))\n",
        "\n",
        "A = np.transpose(A)\n",
        "\n",
        "print(\"A =\")\n",
        "print(A)\n",
        "\n",
        "b = np.array([7,4,-3])\n",
        "\n",
        "print(\"b = \")\n",
        "print(b)"
      ]
    },
    {
      "cell_type": "code",
      "execution_count": 53,
      "metadata": {},
      "outputs": [],
      "source": [
        "Ainv = np.linalg.pinv(A)"
      ]
    },
    {
      "cell_type": "code",
      "execution_count": 54,
      "metadata": {},
      "outputs": [
        {
          "name": "stdout",
          "output_type": "stream",
          "text": [
            "[3. 2.]\n",
            "[-1.77635684e-15  8.88178420e-16  4.88498131e-15]\n"
          ]
        }
      ],
      "source": [
        "x = Ainv@b\n",
        "print(x)\n",
        "print(A@x - b)\n",
        "# 올바른 해인지 확인\n",
        "# pseudo 역행렬로 제대로 안 구해질\n",
        "# 수도 있다."
      ]
    }
  ],
  "metadata": {
    "colab": {
      "provenance": []
    },
    "kernelspec": {
      "display_name": "Python 3",
      "name": "python3"
    },
    "language_info": {
      "name": "python"
    }
  },
  "nbformat": 4,
  "nbformat_minor": 0
}
